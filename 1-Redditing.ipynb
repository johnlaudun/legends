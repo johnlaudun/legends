{
 "cells": [
  {
   "attachments": {},
   "cell_type": "markdown",
   "id": "6cb705e1",
   "metadata": {},
   "source": [
    "# Redditing\n",
    "\n",
    "This notebook uses the `praw` library to download the 100 hot posts in `r/conspiracy` and save them to a dataframe (and later to a CSV file). It then uses the ID for each post to grab all the comments for a post. It adds those to the dataframe, which can then be saved as a CSV."
   ]
  },
  {
   "cell_type": "code",
   "execution_count": 2,
   "id": "ac391941",
   "metadata": {},
   "outputs": [],
   "source": [
    "import os\n",
    "import praw\n",
    "import pandas as pd\n",
    "import numpy as np\n",
    "\n",
    "# SECRET DECODER RING\n",
    "webber_id = os.getenv(\"REDDIT_API_ID\")\n",
    "webber_secret = os.getenv(\"REDDIT_API_SECRET\")"
   ]
  },
  {
   "cell_type": "code",
   "execution_count": 3,
   "id": "97ddcea6",
   "metadata": {},
   "outputs": [
    {
     "name": "stdout",
     "output_type": "stream",
     "text": [
      "True\n"
     ]
    }
   ],
   "source": [
    "reddit = praw.Reddit(\n",
    "    client_id=\"\",\n",
    "    client_secret=\"\",\n",
    "    user_agent=\"webber\"\n",
    "    )\n",
    "print(reddit.read_only)\n",
    "# try:\n",
    "#     print(\"Authenticated as {}\".format(reddit.user.me()))\n",
    "# except ResponseException:\n",
    "#     print(\"Something went wrong during authentication\")\n",
    "\n",
    "# print(reddit.auth.url(scopes=[\"identity\"], state=\"...\", duration=\"permanent\"))"
   ]
  },
  {
   "cell_type": "code",
   "execution_count": 3,
   "id": "54c59322",
   "metadata": {},
   "outputs": [],
   "source": [
    "# hot_posts = reddit.subreddit('conspiracy').hot(limit=5)\n",
    "# for post in hot_posts:\n",
    "#     print(post.title)"
   ]
  },
  {
   "cell_type": "code",
   "execution_count": 29,
   "id": "5f6bf2ba",
   "metadata": {},
   "outputs": [
    {
     "data": {
      "text/plain": [
       "(100, 7)"
      ]
     },
     "execution_count": 29,
     "metadata": {},
     "output_type": "execute_result"
    }
   ],
   "source": [
    "conspiracy = reddit.subreddit('conspiracy')\n",
    "\n",
    "posts = []\n",
    "for post in conspiracy.hot(limit=100):\n",
    "    posts.append([post.title, \n",
    "                  post.score, \n",
    "                  post.id, \n",
    "                  post.url, \n",
    "                  post.num_comments, \n",
    "                  post.selftext, \n",
    "                  post.created])\n",
    "\n",
    "posts = pd.DataFrame(posts,\n",
    "                     columns=['title', 'score', 'id', 'url', 'num_comments', 'body', 'created'])\n",
    "\n",
    "posts.shape"
   ]
  },
  {
   "cell_type": "code",
   "execution_count": 30,
   "id": "f8e2fe45",
   "metadata": {
    "scrolled": true
   },
   "outputs": [
    {
     "data": {
      "text/html": [
       "<div>\n",
       "<style scoped>\n",
       "    .dataframe tbody tr th:only-of-type {\n",
       "        vertical-align: middle;\n",
       "    }\n",
       "\n",
       "    .dataframe tbody tr th {\n",
       "        vertical-align: top;\n",
       "    }\n",
       "\n",
       "    .dataframe thead th {\n",
       "        text-align: right;\n",
       "    }\n",
       "</style>\n",
       "<table border=\"1\" class=\"dataframe\">\n",
       "  <thead>\n",
       "    <tr style=\"text-align: right;\">\n",
       "      <th></th>\n",
       "      <th>title</th>\n",
       "      <th>score</th>\n",
       "      <th>id</th>\n",
       "      <th>url</th>\n",
       "      <th>num_comments</th>\n",
       "      <th>body</th>\n",
       "      <th>created</th>\n",
       "    </tr>\n",
       "  </thead>\n",
       "  <tbody>\n",
       "    <tr>\n",
       "      <th>0</th>\n",
       "      <td>Our justice system is broken?</td>\n",
       "      <td>1793</td>\n",
       "      <td>13rc2x0</td>\n",
       "      <td>https://i.redd.it/2i041y8gdz1b1.jpg</td>\n",
       "      <td>672</td>\n",
       "      <td></td>\n",
       "      <td>1.685004e+09</td>\n",
       "    </tr>\n",
       "    <tr>\n",
       "      <th>1</th>\n",
       "      <td>China announces new Covid variant. Y’all ready...</td>\n",
       "      <td>417</td>\n",
       "      <td>13rjky7</td>\n",
       "      <td>https://i.redd.it/jdiygs9c612b1.jpg</td>\n",
       "      <td>241</td>\n",
       "      <td></td>\n",
       "      <td>1.685026e+09</td>\n",
       "    </tr>\n",
       "    <tr>\n",
       "      <th>2</th>\n",
       "      <td>Sudden Infant Death Syndrome... because infant...</td>\n",
       "      <td>542</td>\n",
       "      <td>13rf3pz</td>\n",
       "      <td>https://i.redd.it/u9xw4o3p602b1.jpg</td>\n",
       "      <td>340</td>\n",
       "      <td></td>\n",
       "      <td>1.685014e+09</td>\n",
       "    </tr>\n",
       "    <tr>\n",
       "      <th>3</th>\n",
       "      <td>Under Elon Musk, Twitter has approved 83% of c...</td>\n",
       "      <td>65</td>\n",
       "      <td>13rn9tu</td>\n",
       "      <td>https://english.elpais.com/international/2023-...</td>\n",
       "      <td>74</td>\n",
       "      <td></td>\n",
       "      <td>1.685034e+09</td>\n",
       "    </tr>\n",
       "    <tr>\n",
       "      <th>4</th>\n",
       "      <td>US Default=Chaos &amp; Violence Unleashed! Corpora...</td>\n",
       "      <td>385</td>\n",
       "      <td>13r87u9</td>\n",
       "      <td>https://i.redd.it/pyif95v0qw1b1.png</td>\n",
       "      <td>221</td>\n",
       "      <td></td>\n",
       "      <td>1.684990e+09</td>\n",
       "    </tr>\n",
       "  </tbody>\n",
       "</table>\n",
       "</div>"
      ],
      "text/plain": [
       "                                               title  score       id   \n",
       "0                      Our justice system is broken?   1793  13rc2x0  \\\n",
       "1  China announces new Covid variant. Y’all ready...    417  13rjky7   \n",
       "2  Sudden Infant Death Syndrome... because infant...    542  13rf3pz   \n",
       "3  Under Elon Musk, Twitter has approved 83% of c...     65  13rn9tu   \n",
       "4  US Default=Chaos & Violence Unleashed! Corpora...    385  13r87u9   \n",
       "\n",
       "                                                 url  num_comments body   \n",
       "0                https://i.redd.it/2i041y8gdz1b1.jpg           672       \\\n",
       "1                https://i.redd.it/jdiygs9c612b1.jpg           241        \n",
       "2                https://i.redd.it/u9xw4o3p602b1.jpg           340        \n",
       "3  https://english.elpais.com/international/2023-...            74        \n",
       "4                https://i.redd.it/pyif95v0qw1b1.png           221        \n",
       "\n",
       "        created  \n",
       "0  1.685004e+09  \n",
       "1  1.685026e+09  \n",
       "2  1.685014e+09  \n",
       "3  1.685034e+09  \n",
       "4  1.684990e+09  "
      ]
     },
     "execution_count": 30,
     "metadata": {},
     "output_type": "execute_result"
    }
   ],
   "source": [
    "posts.head()"
   ]
  },
  {
   "cell_type": "code",
   "execution_count": 45,
   "id": "0df3fbbd",
   "metadata": {},
   "outputs": [],
   "source": [
    "# posts.to_csv('c2.csv')"
   ]
  },
  {
   "cell_type": "code",
   "execution_count": 31,
   "id": "964f92fb",
   "metadata": {},
   "outputs": [
    {
     "name": "stdout",
     "output_type": "stream",
     "text": [
      "                                                title  score       id   \n",
      "10  Experts Baffled. British Heart Foundation : 50...     34  13riun8  \\\n",
      "\n",
      "                                                  url  num_comments body   \n",
      "10  https://rumble.com/v2pthn4-astonishing-rise-in...            17       \\\n",
      "\n",
      "         created  \n",
      "10  1.685024e+09  \n"
     ]
    }
   ],
   "source": [
    "print(posts[10:11])"
   ]
  },
  {
   "cell_type": "code",
   "execution_count": 32,
   "id": "822d371b",
   "metadata": {},
   "outputs": [
    {
     "data": {
      "text/plain": [
       "''"
      ]
     },
     "execution_count": 32,
     "metadata": {},
     "output_type": "execute_result"
    }
   ],
   "source": [
    "posts.at[10,'body']"
   ]
  },
  {
   "cell_type": "code",
   "execution_count": 33,
   "id": "044a0310",
   "metadata": {},
   "outputs": [
    {
     "data": {
      "text/plain": [
       "36343"
      ]
     },
     "execution_count": 33,
     "metadata": {},
     "output_type": "execute_result"
    }
   ],
   "source": [
    "bodies = posts.body.tolist()\n",
    "text = ' '.join(bodies)\n",
    "len(text)"
   ]
  },
  {
   "cell_type": "code",
   "execution_count": 35,
   "id": "9570167f",
   "metadata": {},
   "outputs": [
    {
     "name": "stdout",
     "output_type": "stream",
     "text": [
      "['13rc2x0', '13rjky7', '13rf3pz', '13rn9tu', '13r87u9', '13qzit5', '13rd0n9', '13rlv5c', '13r5od6', '13qxjw2']\n"
     ]
    }
   ],
   "source": [
    "post_ids = posts.id.tolist()\n",
    "\n",
    "print(post_ids[0:10])"
   ]
  },
  {
   "cell_type": "code",
   "execution_count": 36,
   "id": "6f755961",
   "metadata": {},
   "outputs": [],
   "source": [
    "# Revision to get all comments out due to change in praw library\n",
    "# https://stackoverflow.com/questions/39840686/attributeerror-class-praw-objects-morecomments-has-no-attribute-body\n",
    "\n",
    "def get_comments(post_id):\n",
    "    comments = []\n",
    "    submission = reddit.submission(id=post_id)\n",
    "    submission.comments.replace_more(limit=0) # flatten tree\n",
    "    for comment in submission.comments.list():\n",
    "        comments.append(comment.body)\n",
    "    return comments"
   ]
  },
  {
   "cell_type": "raw",
   "id": "288a59a7-c6b6-4ef5-b3d1-e14af62f44cc",
   "metadata": {},
   "source": [
    "# Originally run on first three post_ids[O:3]\n",
    "comments = [get_comments(item) for item in post_ids[0:3]]\n",
    "\n",
    "# Because each of the comments are contained in a list of strings,\n",
    "# len() returns the total number of comments associated with each post.\n",
    "for i in comments:\n",
    "    print(len(i))\n",
    "\n",
    "# To see what things look like\n",
    "print(comments)"
   ]
  },
  {
   "cell_type": "code",
   "execution_count": 37,
   "id": "a2cd7998",
   "metadata": {},
   "outputs": [],
   "source": [
    "# with testing done, let's do this\n",
    "comments = [get_comments(item) for item in post_ids]"
   ]
  },
  {
   "cell_type": "code",
   "execution_count": 41,
   "id": "1e824f58-f29b-4a08-b87d-c04c2584b68b",
   "metadata": {},
   "outputs": [],
   "source": [
    "# Originally everything went straight into the dataframe\n",
    "# posts['comments'] = np.array(comments, dtype=object)\n",
    "# And I used the code below to clean the Meta comment\n",
    "# match = '[\\'###[Meta] Sticky Comment\\\\n\\\\n[Rule 2](https://www.reddit.com/r/conspiracy/wiki/faq#wiki_2_-_address_the_argument.3B_not_the_user.2C_the_mods.2C_or_the_sub.) ***does not apply*** when replying to this stickied comment.  \\\\n\\\\n[Rule 2](https://www.reddit.com/r/conspiracy/wiki/faq#wiki_2_-_address_the_argument.3B_not_the_user.2C_the_mods.2C_or_the_sub.) ***does apply*** throughout the rest of this thread.\\\\n\\\\n*What this means*: Please keep any \"meta\" discussion directed at specific users, mods, or /r/conspiracy in general in this comment chain ***only.***\\\\n\\\\n*I am a bot, and this action was performed automatically. Please [contact the moderators of this subreddit](/message/compose/?to=/r/conspiracy) if you have any questions or concerns.*\\','\n",
    "# clean = [item.replace(match, '') for item in comments]\n",
    "\n",
    "for item in comments:\n",
    "    item.pop(0)"
   ]
  },
  {
   "cell_type": "code",
   "execution_count": 42,
   "id": "25666455-cfbe-41ed-82c7-032f24650e9a",
   "metadata": {},
   "outputs": [],
   "source": [
    "df = pd.DataFrame({'name': post_ids, 'lists': comments})"
   ]
  },
  {
   "cell_type": "code",
   "execution_count": 43,
   "id": "2131a8e2",
   "metadata": {},
   "outputs": [
    {
     "data": {
      "text/html": [
       "<div>\n",
       "<style scoped>\n",
       "    .dataframe tbody tr th:only-of-type {\n",
       "        vertical-align: middle;\n",
       "    }\n",
       "\n",
       "    .dataframe tbody tr th {\n",
       "        vertical-align: top;\n",
       "    }\n",
       "\n",
       "    .dataframe thead th {\n",
       "        text-align: right;\n",
       "    }\n",
       "</style>\n",
       "<table border=\"1\" class=\"dataframe\">\n",
       "  <thead>\n",
       "    <tr style=\"text-align: right;\">\n",
       "      <th></th>\n",
       "      <th>name</th>\n",
       "      <th>lists</th>\n",
       "    </tr>\n",
       "  </thead>\n",
       "  <tbody>\n",
       "    <tr>\n",
       "      <th>0</th>\n",
       "      <td>13rc2x0</td>\n",
       "      <td>[Always has been.., Wait until you learn how c...</td>\n",
       "    </tr>\n",
       "    <tr>\n",
       "      <th>1</th>\n",
       "      <td>13rjky7</td>\n",
       "      <td>[😂 I dont believe shit until it happens, and e...</td>\n",
       "    </tr>\n",
       "    <tr>\n",
       "      <th>2</th>\n",
       "      <td>13rf3pz</td>\n",
       "      <td>[The Japanese started a SIDS awareness campaig...</td>\n",
       "    </tr>\n",
       "    <tr>\n",
       "      <th>3</th>\n",
       "      <td>13rn9tu</td>\n",
       "      <td>[A true republican.\\n\\nCan't get enough of tha...</td>\n",
       "    </tr>\n",
       "    <tr>\n",
       "      <th>4</th>\n",
       "      <td>13r87u9</td>\n",
       "      <td>[I think I get taxed around 35%, I sell pest c...</td>\n",
       "    </tr>\n",
       "  </tbody>\n",
       "</table>\n",
       "</div>"
      ],
      "text/plain": [
       "      name                                              lists\n",
       "0  13rc2x0  [Always has been.., Wait until you learn how c...\n",
       "1  13rjky7  [😂 I dont believe shit until it happens, and e...\n",
       "2  13rf3pz  [The Japanese started a SIDS awareness campaig...\n",
       "3  13rn9tu  [A true republican.\\n\\nCan't get enough of tha...\n",
       "4  13r87u9  [I think I get taxed around 35%, I sell pest c..."
      ]
     },
     "execution_count": 43,
     "metadata": {},
     "output_type": "execute_result"
    }
   ],
   "source": [
    "df.head()"
   ]
  },
  {
   "cell_type": "code",
   "execution_count": 44,
   "id": "bfd17416",
   "metadata": {},
   "outputs": [],
   "source": [
    "# df.to_csv('c2comments.csv')"
   ]
  },
  {
   "cell_type": "code",
   "execution_count": null,
   "id": "b1e703a9-2456-4596-b8f9-af40ab43179f",
   "metadata": {},
   "outputs": [],
   "source": [
    "# Alternate way to save comment list:\n",
    "# with open('comments.txt', mode='w') as myfile:\n",
    "#     myfile.write('\\n'.join(comments))"
   ]
  }
 ],
 "metadata": {
  "kernelspec": {
   "display_name": "Python 3 (ipykernel)",
   "language": "python",
   "name": "python3"
  },
  "language_info": {
   "codemirror_mode": {
    "name": "ipython",
    "version": 3
   },
   "file_extension": ".py",
   "mimetype": "text/x-python",
   "name": "python",
   "nbconvert_exporter": "python",
   "pygments_lexer": "ipython3",
   "version": "3.10.11"
  }
 },
 "nbformat": 4,
 "nbformat_minor": 5
}
