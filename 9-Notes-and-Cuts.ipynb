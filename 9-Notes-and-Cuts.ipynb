{
 "cells": [
  {
   "cell_type": "code",
   "execution_count": null,
   "id": "1eeab97f-b4a0-47ea-88ec-0ba126ce2e7c",
   "metadata": {},
   "outputs": [],
   "source": []
  },
  {
   "cell_type": "code",
   "execution_count": 48,
   "id": "db1643a9-c962-4447-905e-8de4d4020d10",
   "metadata": {},
   "outputs": [],
   "source": [
    "def get_response(prompt):\n",
    "    instructions = \"\"\"\n",
    "    \"You are an assistant designed to create texts. \n",
    "    Users will paste in a string of words, \n",
    "    and you will respond with a cohesive text.\n",
    "    \"\"\"\n",
    "    query = f\"\"\"\n",
    "    Create a conspiracy theory of no more than 125 words using the following words: {prompt}.\n",
    "    \"\"\"\n",
    "    completion = openai.ChatCompletion.create(\n",
    "        model = \"gpt-3.5-turbo\",\n",
    "        temperature = 1.0,\n",
    "        top_p = 0.5,\n",
    "        messages=[\n",
    "            {\"role\": \"system\", \"content\": instructions},\n",
    "            {\"role\": \"user\", \"content\": query}\n",
    "        ])\n",
    "    # Get token usage (cost) and response:\n",
    "    tokens = completion.usage.total_tokens\n",
    "    reply = completion.choices[0].message.content\n",
    "    return prompt, tokens, reply"
   ]
  },
  {
   "cell_type": "code",
   "execution_count": 49,
   "id": "3ca466ed-9e0c-4968-9aeb-80f2c0fe48f8",
   "metadata": {},
   "outputs": [],
   "source": [
    "prompts = []\n",
    "tokens_used = []\n",
    "replies = []\n",
    "\n",
    "for i in range(5):\n",
    "    prompt = random.sample(topics, 3)\n",
    "    get_response(prompt)\n",
    "    prompts.append(prompt)\n",
    "    tokens_used.append(tokens)\n",
    "    replies.append(reply)"
   ]
  }
 ],
 "metadata": {
  "kernelspec": {
   "display_name": "Python 3 (ipykernel)",
   "language": "python",
   "name": "python3"
  },
  "language_info": {
   "codemirror_mode": {
    "name": "ipython",
    "version": 3
   },
   "file_extension": ".py",
   "mimetype": "text/x-python",
   "name": "python",
   "nbconvert_exporter": "python",
   "pygments_lexer": "ipython3",
   "version": "3.10.11"
  }
 },
 "nbformat": 4,
 "nbformat_minor": 5
}
