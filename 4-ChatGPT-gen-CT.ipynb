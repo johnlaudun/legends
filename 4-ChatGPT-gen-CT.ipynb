{
 "cells": [
  {
   "cell_type": "code",
   "execution_count": 1,
   "id": "acf6c41e-e578-42d1-b469-60dfb821dc95",
   "metadata": {},
   "outputs": [],
   "source": [
    "# IMPORTS\n",
    "import os, openai, random, pandas as pd\n",
    "from nltk.tokenize import word_tokenize\n",
    "\n",
    "# SECRET DECODER RING\n",
    "openai.api_key = os.getenv(\"OPENAI_API_KEY\")"
   ]
  },
  {
   "cell_type": "code",
   "execution_count": 2,
   "id": "03ff11f2-c897-46b8-9285-82035867251f",
   "metadata": {},
   "outputs": [],
   "source": [
    "# our 7 model texts\n",
    "with open('models.txt', mode='r') as models_file:\n",
    "    models = [line.rstrip() for line in models_file]\n",
    "\n",
    "# our 200 topics\n",
    "with open(\"topics-edited.txt\", \"r\") as topics_file:\n",
    "    text = topics_file.read()\n",
    "    # strings = [line.rstrip() for line in another_file]\n",
    "    # one_string = \" \".join(strings)\n",
    "    topics = word_tokenize(text)"
   ]
  },
  {
   "cell_type": "markdown",
   "id": "2c2a625a-0686-4016-b5d1-8ad6105d6af2",
   "metadata": {},
   "source": [
    "## Build a Model of Conspiracy Theories"
   ]
  },
  {
   "cell_type": "code",
   "execution_count": 3,
   "id": "44d14380-8657-4557-8c43-a445243f35dd",
   "metadata": {},
   "outputs": [
    {
     "name": "stdout",
     "output_type": "stream",
     "text": [
      "[117, 157, 159, 117] 137.5\n"
     ]
    }
   ],
   "source": [
    "# This is not for ChatGPT but for us to provide better\n",
    "# specifications. We will take these 7 models and convert them \n",
    "# into a single string below.\n",
    "texts = []\n",
    "for item in models:\n",
    "    words = word_tokenize(item)\n",
    "    texts.append(words)\n",
    "\n",
    "lengths = [len(text) for text in texts]\n",
    "print(lengths, sum(lengths)/len(lengths))"
   ]
  },
  {
   "cell_type": "code",
   "execution_count": 10,
   "id": "7c799b4f-90e4-460e-8358-0d1b45b86deb",
   "metadata": {},
   "outputs": [
    {
     "name": "stdout",
     "output_type": "stream",
     "text": [
      "['all', 'the', 'conspiracies', ',', 'no', 'matter', 'confirmed', 'or', 'debunked', ',', 'are', 'all', 'flying', 'on', 'the', 'internet', ',', 'and', 'many', 'people', 'already', 'are', 'aware', 'of', 'gov', 'invading', 'other', 'contries', 'with', 'tax', 'money', ',', 'using', 'hitman', 'clapse', 'other', 'govs', ',', 'spread', 'toxic', 'chem', 'or', 'vac', 'in', 'the', 'past', ',', 'illegally', 'surveil', 'on', 'citizen', ',', 'corruption', ',', 'police', 'brutality', ',', 'inside', 'trade', 'etc', '.', 'the', 'list', 'goes', 'on', 'and', 'on', ',', 'problem', 'is', 'people', 'today', 'are', 'so', 'numb', 'to', 'these', 'wrong', 'doing', 'that', 'more', 'seems', 'to', 'be', 'OK', 'with', 'them', '.', 'In', 'the', 'past', 'people', 'actually', 'do', 'stuff', 'fiercely', 'to', 'tear', 'down', 'the', 'situation', ',', 'like', 'french', 'revolution', ',', 'religious', 'reformation', 'war', ',', 'people', 'are', 'so', 'tamed', 'by', 'entertainment', 'today']\n"
     ]
    }
   ],
   "source": [
    "print(texts[3])"
   ]
  },
  {
   "cell_type": "code",
   "execution_count": 4,
   "id": "e3f812fa-6575-40f2-8d94-350399632885",
   "metadata": {},
   "outputs": [],
   "source": [
    "# We will use these instructions for all queries\n",
    "instructions = \"\"\"\n",
    "\"You are an assistant designed to create texts.\n",
    "\"\"\"\n",
    "\n",
    "def chatgptquery (query):\n",
    "    completion = openai.ChatCompletion.create(\n",
    "        model = \"gpt-3.5-turbo\",\n",
    "        temperature = 1.0,\n",
    "        top_p = 0.5,\n",
    "        messages=[{\"role\": \"assistant\", \"content\": instructions},\n",
    "                  {\"role\": \"user\", \"content\": query}])\n",
    "    tokens = completion.usage.total_tokens\n",
    "    reply_content = completion.choices[0].message.content\n",
    "    # Get the seed, token usage, and the text\n",
    "    print(tokens)\n",
    "    print(reply_content)"
   ]
  },
  {
   "cell_type": "code",
   "execution_count": 6,
   "id": "bd849c11-11dc-47be-b060-968ec7e696f2",
   "metadata": {},
   "outputs": [
    {
     "name": "stdout",
     "output_type": "stream",
     "text": [
      "863\n",
      "Lately, I've been diving into various conspiracy theories, starting with the JFK assassination and moving on to other topics such as the Paul Is Dead theory and the control of medication in the United States. It's interesting to see how these theories have spread on the internet and how many people are aware of government wrongdoings such as invading other countries, using hitmen, spreading toxic chemicals or vaccines, and illegally surveilling citizens. However, it's disheartening to see how numb people have become to these issues and how little action is taken to address them. In fact, it seems like the government and corporations are gaining more control over our minds and bodies every day. Despite this, there are still those who are determined to uncover the truth and fight against the corruption.\n"
     ]
    }
   ],
   "source": [
    "# ChatGPT expects string input\n",
    "models_ = \"\\n\".join([f\"{i}. {item}\" for i, item in enumerate(models, 1)])\n",
    "\n",
    "# And here's our query\n",
    "query = f\"\"\"\n",
    "I am going to provide you with 4 writing samples. \n",
    "I want you to copy the writing style and produce \n",
    "a text drawn from all four of the texts. Please make sure\n",
    "your response is written in the style of the sample texts.\n",
    "\n",
    "These are the 4 texts to use as models: {models_}\n",
    "\"\"\"\n",
    "\n",
    "chatgptquery(query)"
   ]
  },
  {
   "cell_type": "code",
   "execution_count": 7,
   "id": "436fe40c-dfe3-4176-8256-1b7372257ecd",
   "metadata": {},
   "outputs": [
    {
     "name": "stdout",
     "output_type": "stream",
     "text": [
      "164\n",
      "Just a few years ago, it was hard to imagine that a single cell phone could cost more than a thousand USD. But now, with the latest technology and features, it's not uncommon to see prices skyrocket. However, despite the high price tag, cell phones have become an essential part of our daily lives. From staying connected with loved ones to managing our work schedules, these devices have revolutionized the way we communicate. So, whether you're willing to spend a fortune or just looking for a budget-friendly option, there's a cell phone out there for everyone.\n",
      "['just', 'usd', 'cell']\n"
     ]
    }
   ],
   "source": [
    "prompt = random.sample(topics, 3)\n",
    "\n",
    "query_b = f\"\"\"\n",
    "Create a text in the style of those provided \n",
    "using the following words: {prompt}.\n",
    "\"\"\"\n",
    "\n",
    "chatgptquery(query_b)\n",
    "print(prompt)"
   ]
  },
  {
   "cell_type": "markdown",
   "id": "21b32fe3-d4b3-43ce-a673-d7543368ea19",
   "metadata": {},
   "source": [
    "## Generate New Conspiracy Theories"
   ]
  },
  {
   "cell_type": "code",
   "execution_count": null,
   "id": "42db0ceb-7bdd-429f-9729-41327d37dfb3",
   "metadata": {},
   "outputs": [],
   "source": [
    "prompts = []\n",
    "tokens_used = []\n",
    "responses = []\n",
    "\n",
    "for _ in range(10):\n",
    "\n",
    "    prompt = random.sample(topics, 3)\n",
    "    instructions = \"\"\"\n",
    "    \"You are an assistant designed to create texts. \n",
    "    Users will paste in a string of words, \n",
    "    and you will respond with a cohesive text.\n",
    "    \"\"\"\n",
    "    \n",
    "    query = f\"\"\"\n",
    "    Create a conspiracy theory of about 135 words \n",
    "    using the following words: {prompt}.\n",
    "    \"\"\"\n",
    "    \n",
    "    completion = openai.ChatCompletion.create(\n",
    "        model = \"gpt-3.5-turbo\",\n",
    "        temperature = 1.0,\n",
    "        top_p = 0.5,\n",
    "        messages=[\n",
    "            {\"role\": \"system\", \"content\": instructions},\n",
    "            {\"role\": \"user\", \"content\": query}\n",
    "        ])\n",
    "    \n",
    "    # Get token usage (cost) and response:\n",
    "    tokens = completion.usage.total_tokens\n",
    "    reply = completion.choices[0].message.content\n",
    "    \n",
    "    prompts.append(prompt)\n",
    "    tokens_used.append(tokens)\n",
    "    responses.append(reply)"
   ]
  },
  {
   "cell_type": "code",
   "execution_count": null,
   "id": "77882359-fcbb-4cf9-a00c-5609c54dcfc4",
   "metadata": {},
   "outputs": [],
   "source": [
    "responses = pd.DataFrame(\n",
    "    {'prompt': prompts,\n",
    "     'tokens': tokens_used,\n",
    "     'response': responses,\n",
    "    })\n",
    "responses.head()"
   ]
  },
  {
   "cell_type": "code",
   "execution_count": null,
   "id": "3b53e59a-1c40-41b1-b59c-114526f95ce4",
   "metadata": {},
   "outputs": [],
   "source": [
    "# responses.to_csv(\"10-responses.csv\")"
   ]
  },
  {
   "cell_type": "markdown",
   "id": "a9c4136c-d368-464a-a79d-dd4f5a73d1bd",
   "metadata": {},
   "source": [
    "## Using Only One Model"
   ]
  },
  {
   "cell_type": "code",
   "execution_count": 12,
   "id": "26becbe3-88ec-46d1-b93f-c09aa8a96638",
   "metadata": {},
   "outputs": [
    {
     "name": "stdout",
     "output_type": "stream",
     "text": [
      "429\n",
      "I believe that the stock market is being manipulated by a small group of wealthy individuals, causing instability and unpredictability for the average investor. I also believe that London is facing a cultural crisis, with gentrification and rising costs of living pushing out long-time residents and erasing the city's unique character. Additionally, I believe that Congress is failing to address the needs of the American people, instead prioritizing the interests of corporations and lobbyists. I fear that these issues are all part of a larger plan to consolidate power and control, with the elite hoarding resources and opportunities while the rest of us struggle to get by. I worry that in the near future, we will see the implementation of authoritarian policies, such as a universal banking system controlled by the government, limiting our freedoms and ability to live our lives as we choose. Despite these concerns, I remain hopeful that through collective action and awareness, we can work towards a more equitable and just society. What are your thoughts on these issues?\n",
      "['stock', 'london', 'congress']\n"
     ]
    }
   ],
   "source": [
    "# Model below is from r/conspiracy\n",
    "# 7th top post of the day at 2023-06-03-0800\n",
    "# https://www.reddit.com/r/conspiracy/comments/13zamrr/\\\n",
    "# foreign_powers_are_destabilizing_the_us/\n",
    "prompt = random.sample(topics, 3)\n",
    "\n",
    "query_b = f\"\"\"\n",
    "Create a text in the style of the text provided below\n",
    "but change the topics to: {prompt}.\n",
    "\n",
    "I believe the Chinese Communist Party (with the help of some Arab royalty) \n",
    "have successfully executed a culture-wide subversion campaign, accelerating \n",
    "and provoking already existing problems and creating new ones. I believe \n",
    "the elite are aware of some or all of this, and are hoarding wealth and \n",
    "luxury while we are trapped in a state of controlled demolition. I believe \n",
    "the purpose is to usher in a more authoritarian culture, like China. This \n",
    "will include one universal banking app, just like China, controlled by the \n",
    "government and used against you (i.e. low Social Credit Scores prohibit \n",
    "spending in some cases). I believe there is nothing we can do, and that the \n",
    "demoralization is part of the process. I believe in 3-5 years I won't even \n",
    "be able to share these thoughts. Please tell me what you think.\n",
    "\"\"\"\n",
    "\n",
    "chatgptquery(query_b)\n",
    "print(prompt)"
   ]
  }
 ],
 "metadata": {
  "kernelspec": {
   "display_name": "Python 3 (ipykernel)",
   "language": "python",
   "name": "python3"
  },
  "language_info": {
   "codemirror_mode": {
    "name": "ipython",
    "version": 3
   },
   "file_extension": ".py",
   "mimetype": "text/x-python",
   "name": "python",
   "nbconvert_exporter": "python",
   "pygments_lexer": "ipython3",
   "version": "3.10.11"
  }
 },
 "nbformat": 4,
 "nbformat_minor": 5
}
