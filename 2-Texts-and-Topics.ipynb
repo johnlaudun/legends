{
 "cells": [
  {
   "attachments": {},
   "cell_type": "markdown",
   "id": "cc99c523",
   "metadata": {},
   "source": [
    "# r/conspiracy Texts and Topics\n",
    "\n",
    "This notebook loads the dataframe created in the previous notebook and explores possible topics. It is also set up to begin exploring the genre of the posts. Work yet to be done."
   ]
  },
  {
   "cell_type": "code",
   "execution_count": 1,
   "id": "19b25d4c-e631-42df-8378-84212fa79217",
   "metadata": {},
   "outputs": [],
   "source": [
    "import pandas as pd\n",
    "import numpy as np\n",
    "import re\n",
    "from sklearn.feature_extraction.text import TfidfVectorizer\n",
    "from sklearn.decomposition import NMF\n",
    "from nltk.tokenize import word_tokenize\n",
    "import matplotlib.pyplot as plt"
   ]
  },
  {
   "cell_type": "code",
   "execution_count": 2,
   "id": "2bd7eec3-9e54-4919-9556-dd39222e9911",
   "metadata": {},
   "outputs": [],
   "source": [
    "# Let's build our texts: we will get the posts into a list\n",
    "# And then get our comments into a list"
   ]
  },
  {
   "cell_type": "code",
   "execution_count": 3,
   "id": "11a9036e-41f8-422f-a937-e09c25e9bc43",
   "metadata": {},
   "outputs": [
    {
     "data": {
      "text/plain": [
       "100"
      ]
     },
     "execution_count": 3,
     "metadata": {},
     "output_type": "execute_result"
    }
   ],
   "source": [
    "df = pd.read_csv('c2.csv', index_col='id')\n",
    "posts = df.body.tolist()\n",
    "len(posts)"
   ]
  },
  {
   "cell_type": "code",
   "execution_count": 4,
   "id": "caf1a98f-21c4-443d-8c40-e8b57ff428b0",
   "metadata": {},
   "outputs": [
    {
     "data": {
      "text/plain": [
       "str"
      ]
     },
     "execution_count": 4,
     "metadata": {},
     "output_type": "execute_result"
    }
   ],
   "source": [
    "df2 = pd.read_csv('c2comments.csv')\n",
    "comment_list = df2.lists.tolist()\n",
    "\n",
    "# It appears that pandas lost the fact that we saved a list of lists.\n",
    "# This loses our text shapes\n",
    "type(comment_list[0])"
   ]
  },
  {
   "cell_type": "code",
   "execution_count": 5,
   "id": "eba9cbd2-f637-4211-bc87-2e2df9e120ca",
   "metadata": {},
   "outputs": [
    {
     "data": {
      "text/plain": [
       "'[\\'😂 I dont believe shit until it happens, and even then I’m still suspicious.\\', \\'“Blow me”\\\\n\\\\n-\\\\tMostly everyone\\', \\'Hard pass thanks\\', \\'Just in time for 2024 elections. How convenient.\\', \"Ya\\'ll really can\\'t have an election without covid, huh?\", \\'Oh FFS.\\', \\'SS: So since the last pandemic, we…\\\\n\\\\n* Continued funding Gain of Function research\\\\n* Refuse to hold China, the Wuhan lab, or any govt official anywhere accountable\\\\n* Are in talks with WHO to give them unlimited power to declare lockdowns in any country\\\\n* Covered up fraud by Big Pharma companies\\\\n\\\\nNow just ahead of the 2024 election cycle- surprise!!! A new, super infectious variant. Who coulda seen this coming?\\\\n\\\\nhttps://twitter.com/kylenabecker/status/1661732575088611330?s=46&t=T37mFTn9E_HUaxN1rB76Hw\\', \\'Oh FFS!\\\\nCan they just stop with the BS already\\', \\'This is why i hate twitter.  Full of scare attempts for clicks\\', \"I\\'m done with Covid and vaccines...I\\'d rather just die.\", \\'So has air travel been shut down from China to th'"
      ]
     },
     "execution_count": 5,
     "metadata": {},
     "output_type": "execute_result"
    }
   ],
   "source": [
    "# Let's see what it look like:\n",
    "comment_list[1][0:1000]"
   ]
  },
  {
   "cell_type": "code",
   "execution_count": 6,
   "id": "d2ae98a8-5694-4e51-94fd-038ca5708017",
   "metadata": {},
   "outputs": [
    {
     "name": "stdout",
     "output_type": "stream",
     "text": [
      "[\n",
      "😂 I dont believe shit until it happens, and even then I’m still suspicious.\n",
      ", \n",
      "“Blow me”\\n\\n-\\tMostly everyone\n",
      ", \n",
      "Hard pass thanks\n",
      ", \n",
      "Just in time for 2024 elections. How convenient.\n",
      ", \"Ya\n",
      "ll really can\n"
     ]
    }
   ],
   "source": [
    "comments = comment_list[1].split(\"\\'\")\n",
    "\n",
    "for comment in comments[0:10]:\n",
    "    print(comment)"
   ]
  },
  {
   "cell_type": "code",
   "execution_count": 7,
   "id": "85acc349-9455-4e0b-9243-ddb1ef849214",
   "metadata": {},
   "outputs": [
    {
     "data": {
      "text/plain": [
       "200"
      ]
     },
     "execution_count": 7,
     "metadata": {},
     "output_type": "execute_result"
    }
   ],
   "source": [
    "raw = [*posts, *comment_list]\n",
    "len(raw)"
   ]
  },
  {
   "cell_type": "code",
   "execution_count": 8,
   "id": "2d35ac67-bc62-4852-90b3-312135153d9f",
   "metadata": {},
   "outputs": [
    {
     "data": {
      "text/plain": [
       "148"
      ]
     },
     "execution_count": 8,
     "metadata": {},
     "output_type": "execute_result"
    }
   ],
   "source": [
    "texts = [x for x in raw if str(x) != 'nan']\n",
    "len(texts)"
   ]
  },
  {
   "attachments": {},
   "cell_type": "markdown",
   "id": "5e6aff74-312f-4c85-808f-3c73054e9339",
   "metadata": {},
   "source": [
    "## Topic Modeling"
   ]
  },
  {
   "cell_type": "code",
   "execution_count": 9,
   "id": "30283018-abf1-4fbc-bb57-e6112b8407b8",
   "metadata": {},
   "outputs": [],
   "source": [
    "# Display Functions\n",
    "# =-=-=-=-=-=-=-=-=-=-= \n",
    "\n",
    "def topic_details(model, feature_names, n_top_words):\n",
    "    for topic_idx, topic in enumerate(model.components_):\n",
    "        message = \"{:d}: \".format(topic_idx)\n",
    "        message += \" \".join([feature_names[i] + ' ' + str(round(topic[i], 2)) + ','\n",
    "                             for i in topic.argsort()[:-n_top_words - 1:-1]])\n",
    "        print(message)\n",
    "    print()\n",
    "\n",
    "def just_words(model, feature_names, n_top_words):\n",
    "    topics = []\n",
    "    for topic_idx, topic in enumerate(model.components_):\n",
    "        words = \" \".join([feature_names[i] for i in topic.argsort()[:-n_top_words - 1:-1]])\n",
    "        topics.append(words)\n",
    "    return topics"
   ]
  },
  {
   "cell_type": "code",
   "execution_count": 10,
   "id": "fcdb2036-1ecc-4cec-89a6-b3ade39925b0",
   "metadata": {},
   "outputs": [],
   "source": [
    "# SETTINGS\n",
    "n_topics = 20\n",
    "n_features = 5000\n",
    "n_top_words = 10\n",
    "n_top_documents = 5"
   ]
  },
  {
   "cell_type": "code",
   "execution_count": 11,
   "id": "b11bc946-eea7-4ce1-9ebf-70c43cbcc261",
   "metadata": {},
   "outputs": [
    {
     "data": {
      "text/plain": [
       "(5000,)"
      ]
     },
     "execution_count": 11,
     "metadata": {},
     "output_type": "execute_result"
    }
   ],
   "source": [
    "# NMF is able to use tf-idf\n",
    "vectorizer = TfidfVectorizer(max_df = 0.9, \n",
    "                             min_df = 2, \n",
    "                             max_features = n_features,\n",
    "                             stop_words = 'english',\n",
    "                                  )\n",
    "X = vectorizer.fit_transform(texts)\n",
    "features = vectorizer.get_feature_names_out()\n",
    "features.shape"
   ]
  },
  {
   "cell_type": "code",
   "execution_count": 12,
   "id": "80062f68-4c65-442a-ace3-4b12f800a00d",
   "metadata": {},
   "outputs": [
    {
     "name": "stderr",
     "output_type": "stream",
     "text": [
      "/Users/jl/miniconda3/envs/DEV/lib/python3.10/site-packages/sklearn/decomposition/_nmf.py:1665: ConvergenceWarning: Maximum number of iterations 200 reached. Increase it to improve convergence.\n",
      "  warnings.warn(\n"
     ]
    }
   ],
   "source": [
    "# the NMF topic model\n",
    "model = NMF(n_components=n_topics, \n",
    "            init='random',\n",
    "            random_state=0, \n",
    ")\n",
    "W = model.fit_transform(X)\n",
    "H = model.components_"
   ]
  },
  {
   "cell_type": "code",
   "execution_count": 13,
   "id": "0af19a3c-eeca-49ab-9033-61d7a0c78523",
   "metadata": {},
   "outputs": [
    {
     "name": "stdout",
     "output_type": "stream",
     "text": [
      "0: people 1.03, don 0.66, just 0.51, like 0.48, think 0.37, good 0.33, want 0.31, world 0.27, ni 0.26, country 0.26,\n",
      "1: bush 0.62, kennedy 0.51, twin 0.42, towers 0.41, cia 0.39, conspiracy 0.39, stream 0.36, biden 0.34, lied 0.31, titanic 0.3,\n",
      "2: injection 1.0, weight 0.8, way 0.59, loss 0.58, want 0.39, eat 0.38, lose 0.37, week 0.36, lets 0.35, diabetic 0.34,\n",
      "3: witches 1.09, witchcraft 0.85, witch 0.83, women 0.67, practicing 0.66, spells 0.62, harm 0.4, practical 0.39, today 0.39, bitty 0.39,\n",
      "4: pyramid 3.03, webp 2.18, width 2.05, preview 2.05, enabled 2.05, pjpg 1.97, redd 1.97, format 1.95, auto 1.84, jpg 1.73,\n",
      "5: meds 2.29, medicines 1.69, counter 1.64, medications 1.6, pain 1.6, allergy 1.28, medicine 1.24, antibiotics 1.13, buy 1.13, utter 1.03,\n",
      "6: sword 2.9, london 1.4, following 1.28, god 1.2, blade 1.06, manufactured 0.92, german 0.9, introduced 0.88, gold 0.83, calling 0.83,\n",
      "7: paxton 2.16, ken 2.05, abuse 1.62, 24 1.27, power 1.26, 05 1.22, 2023 1.03, fraud 0.92, investigation 0.91, texas 0.89,\n",
      "8: vaccine 1.65, vaccines 1.28, sids 0.92, people 0.82, covid 0.81, autism 0.68, measles 0.62, think 0.58, vaccination 0.57, data 0.49,\n",
      "9: chris 3.0, epstein 2.12, trafficking 1.86, island 1.44, chester 1.39, bodyguard 1.34, documentary 1.31, child 1.15, celebrities 1.03, connect 0.91,\n",
      "10: rock 0.9, black 0.86, company 0.86, stock 0.67, media 0.65, holds 0.64, world 0.55, blackrock 0.43, round 0.43, hear 0.43,\n",
      "11: landline 2.17, simulation 1.96, phone 1.95, landlines 1.54, phones 1.41, technology 1.37, matrix 1.26, progression 1.19, cell 1.16, way 1.0,\n",
      "12: twitter 3.02, status 2.67, com 1.6, 19 1.2, source 1.12, https 1.01, terrorist 0.91, nhttps 0.85, uk 0.71, cia 0.66,\n",
      "13: com 1.86, https 1.83, www 1.6, youtube 1.38, pentagon 0.5, share 0.48, html 0.47, reuters 0.45, watch 0.44, videos 0.42,\n",
      "14: frogs 1.91, toads 1.52, like 0.75, bugs 0.66, noticed 0.54, time 0.5, just 0.46, climate 0.45, cube 0.43, window 0.41,\n",
      "15: black 1.09, maybe 1.05, different 0.97, timeline 0.96, holes 0.92, galaxy 0.76, space 0.67, thought 0.6, hole 0.6, years 0.53,\n",
      "16: white 1.5, nazi 0.93, nazis 0.76, flag 0.75, just 0.41, supremacist 0.36, false 0.35, people 0.34, supremacy 0.31, like 0.3,\n",
      "17: debt 1.97, tax 1.33, ceiling 1.03, currency 0.98, pay 0.93, taxes 0.77, spending 0.76, usd 0.73, default 0.7, money 0.64,\n",
      "18: congress 1.19, law 0.68, ss 0.67, force 0.56, departments 0.56, rules 0.54, supreme 0.54, act 0.5, agencies 0.44, fraud 0.43,\n",
      "19: covid 3.15, hospitals 1.58, pandemic 1.14, virus 0.66, people 0.62, wife 0.54, flu 0.51, 19 0.38, vaccine 0.37, job 0.37,\n",
      "\n"
     ]
    }
   ],
   "source": [
    "topic_details(model, features, n_top_words)"
   ]
  },
  {
   "cell_type": "code",
   "execution_count": 14,
   "id": "3d8fb144-361c-499b-9892-b42931ab37ca",
   "metadata": {},
   "outputs": [
    {
     "name": "stdout",
     "output_type": "stream",
     "text": [
      "people don just like think good want world ni country\n",
      "bush kennedy twin towers cia conspiracy stream biden lied titanic\n",
      "injection weight way loss want eat lose week lets diabetic\n",
      "witches witchcraft witch women practicing spells harm practical today bitty\n",
      "pyramid webp width preview enabled pjpg redd format auto jpg\n",
      "meds medicines counter medications pain allergy medicine antibiotics buy utter\n",
      "sword london following god blade manufactured german introduced gold calling\n",
      "paxton ken abuse 24 power 05 2023 fraud investigation texas\n",
      "vaccine vaccines sids people covid autism measles think vaccination data\n",
      "chris epstein trafficking island chester bodyguard documentary child celebrities connect\n",
      "rock black company stock media holds world blackrock round hear\n",
      "landline simulation phone landlines phones technology matrix progression cell way\n",
      "twitter status com 19 source https terrorist nhttps uk cia\n",
      "com https www youtube pentagon share html reuters watch videos\n",
      "frogs toads like bugs noticed time just climate cube window\n",
      "black maybe different timeline holes galaxy space thought hole years\n",
      "white nazi nazis flag just supremacist false people supremacy like\n",
      "debt tax ceiling currency pay taxes spending usd default money\n",
      "congress law ss force departments rules supreme act agencies fraud\n",
      "covid hospitals pandemic virus people wife flu 19 vaccine job\n"
     ]
    }
   ],
   "source": [
    "topics = just_words(model, features, 10)\n",
    "for topic in topics:\n",
    "    print(topic)"
   ]
  },
  {
   "cell_type": "code",
   "execution_count": 15,
   "id": "3ed482a3-211c-4fd6-a17c-9104eb1d7c53",
   "metadata": {},
   "outputs": [],
   "source": [
    "# with open('topics.txt', mode='w') as myfile:\n",
    "#     myfile.write('\\n'.join(topics))"
   ]
  },
  {
   "attachments": {},
   "cell_type": "markdown",
   "id": "1372daf4-c39c-449e-9550-236873bc161b",
   "metadata": {},
   "source": [
    "## What Reddit `r/Conspiracy` Posts Look Like"
   ]
  },
  {
   "cell_type": "code",
   "execution_count": 16,
   "id": "2934a212-75bf-41c4-977f-fbc760084d9c",
   "metadata": {},
   "outputs": [],
   "source": [
    "nonan = [x for x in posts if str(x) != 'nan']"
   ]
  },
  {
   "cell_type": "code",
   "execution_count": 17,
   "id": "a51528bc-3874-4f43-b1f1-f8612de895df",
   "metadata": {},
   "outputs": [
    {
     "name": "stdout",
     "output_type": "stream",
     "text": [
      "The conspi\n",
      "I think it\n",
      "The length\n",
      "Interestin\n",
      "Source: ht\n",
      "It's not j\n",
      "Recently, \n",
      "> \"However\n",
      "Anyone not\n",
      "I made a p\n"
     ]
    }
   ],
   "source": [
    "for item in nonan[0:10]:\n",
    "    print(item[0:10])"
   ]
  },
  {
   "cell_type": "code",
   "execution_count": 18,
   "id": "32510232-faec-4a81-8fbb-7b3cdd0831c4",
   "metadata": {},
   "outputs": [],
   "source": [
    "# ops = original posts\n",
    "ops = [word_tokenize(s) for s in nonan]"
   ]
  },
  {
   "cell_type": "code",
   "execution_count": 19,
   "id": "f8d89eba-5326-4125-8a2a-2351dffe2df7",
   "metadata": {},
   "outputs": [],
   "source": [
    "lengths = [len(i) for i in ops]"
   ]
  },
  {
   "cell_type": "code",
   "execution_count": 20,
   "id": "72615dea-b744-4a92-b3be-4952117f59a9",
   "metadata": {},
   "outputs": [
    {
     "data": {
      "text/plain": [
       "<BarContainer object of 48 artists>"
      ]
     },
     "execution_count": 20,
     "metadata": {},
     "output_type": "execute_result"
    },
    {
     "data": {
      "image/png": "[encoded data removed]",
      "text/plain": [
       "<Figure size 640x480 with 1 Axes>"
      ]
     },
     "metadata": {},
     "output_type": "display_data"
    }
   ],
   "source": [
    "plt.bar(range(0,len(ops)), sorted(lengths), width=0.8)"
   ]
  },
  {
   "cell_type": "code",
   "execution_count": 21,
   "id": "4dc7e833-3591-4eaa-a837-ad2a72514373",
   "metadata": {},
   "outputs": [
    {
     "data": {
      "text/plain": [
       "134.5"
      ]
     },
     "execution_count": 21,
     "metadata": {},
     "output_type": "execute_result"
    }
   ],
   "source": [
    "average = sum(lengths)/len(lengths)\n",
    "average                           "
   ]
  },
  {
   "cell_type": "code",
   "execution_count": 22,
   "id": "e2892e9b-979b-4fdc-88b9-f493a31cc410",
   "metadata": {},
   "outputs": [
    {
     "name": "stdout",
     "output_type": "stream",
     "text": [
      "4\n"
     ]
    }
   ],
   "source": [
    "model_texts = []\n",
    "len_win = 25 # Length window\n",
    "for text in ops:\n",
    "    if average-len_win < len(text) < average+len_win:\n",
    "        model_texts.append(text)\n",
    "print(len(model_texts))"
   ]
  },
  {
   "cell_type": "code",
   "execution_count": 23,
   "id": "44fab344-d882-4dab-8074-0050c8a707ed",
   "metadata": {},
   "outputs": [
    {
     "name": "stdout",
     "output_type": "stream",
     "text": [
      "Recently , i ’ ve been doing my due diligence on the Kennedy conspiracy . I ’ m not a conspiracy theorist , but after looking into the death of MLK , I thought I should look into the JFK conspiracy . I know the basics , such as the Magic Bullet , the motorcycles audio recording , etc , but I am somewhat confused . I ’ ve heard of the CIA hiding tapes and covering up evidence surrounding the conspiracy , which would solidify it as true for me , but i ’ ve yet to actually find anything actually proving that . Could somebody give me an example of the CIA doing this ?\n",
      "this vid goes into the painting on the `` egypt station '' album . load the vid up on youtube but do n't play it , to see the painting . note the `` tree '' which looks like a yagi antennae with an array of lines at the top - this looks very much like an electroculture antenna design . https : //www.youtube.com/watch ? v=4l-Uxq_-tdw i 'd also note that the book , `` memoirs of billy shears '' , which has driven a lot of this newfound interest in the Paul Is Dead theory , is full of detail on various esoteric topics , and accurately so too , which is even rarer . anyway , it looks like there 's an intimation of free energy tech that goes as far back as the ancient egyptians , in this specific painting . for a primer on electroculture go here - https : //www.youtube.com/watch ? v=peNdA9PJRK0\n",
      "In most other countries you can purchase some form of antibiotics , many anti-anxiety , attention deficit , psychiatry , a few pain medications , and other medicines over the counter . In the USA you can hardly buy anything over the counter ! There are a few cold/ allergy meds ( besides the allergy medicine behind the counter you need to sign for ) , a few anti-inflammatory pain meds , one or two anti-diarrhea meds , and that almost sums it up . And it seems they are slowly attempting to remove these medicines from the shelves too . The rest of the medicines are controlled and difficult to get even from the doctors and psychiatrists office most of the time ( besides psychiatric meds that help brain wash people further ) . This is complete and utter madness ! Government and corporations want to have full and utter complete control over your mind and body !\n",
      "all the conspiracies , no matter confirmed or debunked , are all flying on the internet , and many people already are aware of gov invading other contries with tax money , using hitman clapse other govs , spread toxic chem or vac in the past , illegally surveil on citizen , corruption , police brutality , inside trade etc . the list goes on and on , problem is people today are so numb to these wrong doing that more seems to be OK with them . In the past people actually do stuff fiercely to tear down the situation , like french revolution , religious reformation war , people are so tamed by entertainment today\n"
     ]
    }
   ],
   "source": [
    "models = [' '.join(text) for text in model_texts]\n",
    "for text in models:\n",
    "    print(text)"
   ]
  },
  {
   "cell_type": "code",
   "execution_count": 24,
   "id": "b8e1e2c1-6e47-4c4a-b8e3-4712a7da30a0",
   "metadata": {},
   "outputs": [],
   "source": [
    "# with open('models.txt', mode='w') as myfile:\n",
    "#     myfile.writelines('\\n'.join(models))"
   ]
  }
 ],
 "metadata": {
  "kernelspec": {
   "display_name": "Python 3 (ipykernel)",
   "language": "python",
   "name": "python3"
  },
  "language_info": {
   "codemirror_mode": {
    "name": "ipython",
    "version": 3
   },
   "file_extension": ".py",
   "mimetype": "text/x-python",
   "name": "python",
   "nbconvert_exporter": "python",
   "pygments_lexer": "ipython3",
   "version": "3.10.11"
  }
 },
 "nbformat": 4,
 "nbformat_minor": 5
}
