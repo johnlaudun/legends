{
 "cells": [
  {
   "cell_type": "code",
   "execution_count": null,
   "id": "32a27aa5",
   "metadata": {},
   "outputs": [],
   "source": []
  },
  {
   "cell_type": "code",
   "execution_count": 1,
   "id": "b46e8a08",
   "metadata": {},
   "outputs": [],
   "source": [
    "import pandas as pd\n",
    "import numpy as np\n",
    "import torch\n",
    "import torch.nn as nn\n",
    "from torch.nn import functional as F"
   ]
  },
  {
   "cell_type": "code",
   "execution_count": 2,
   "id": "1d515e8b",
   "metadata": {},
   "outputs": [],
   "source": [
    "# hyperparameters\n",
    "batch_size = 32 # how many independent sequences will we process in parallel?\n",
    "block_size = 8 # what is the maximum context length for predictions?\n",
    "max_iters = 3000\n",
    "eval_interval = 300\n",
    "learning_rate = 1e-2\n",
    "device = 'cuda' if torch.cuda.is_available() else 'cpu'\n",
    "eval_iters = 200"
   ]
  },
  {
   "cell_type": "code",
   "execution_count": 3,
   "id": "ac391941",
   "metadata": {
    "scrolled": false
   },
   "outputs": [
    {
     "name": "stdout",
     "output_type": "stream",
     "text": [
      "1171824\n",
      "Please provide your feedback on the percentage of food products at your local grocery store that con\n"
     ]
    }
   ],
   "source": [
    "# Load our dataframe\n",
    "df = pd.read_csv('conspires.csv', index_col='id')\n",
    "\n",
    "\n",
    "# Get our two columns of texts\n",
    "bodies = df.body.tolist()\n",
    "comments = df.comments.tolist()\n",
    "\n",
    "# Join them, clean them of NaNs, and make them intro a string\n",
    "joined = [*bodies, *comments]  # unpack both iterables in a list literal\n",
    "cleaned = [x for x in joined if str(x) != 'nan'] # get rid of the nans\n",
    "text = ' '.join(cleaned) # make it one long string\n",
    "\n",
    "print(len(text))\n",
    "print(text[0:100])"
   ]
  },
  {
   "cell_type": "markdown",
   "id": "12023bfe",
   "metadata": {},
   "source": [
    "We have a data set that is slightly larger than the Tiny Shakespeare corpus."
   ]
  },
  {
   "cell_type": "code",
   "execution_count": 4,
   "id": "3c74837d",
   "metadata": {
    "scrolled": true
   },
   "outputs": [
    {
     "name": "stdout",
     "output_type": "stream",
     "text": [
      "\n",
      " !\"#$%&'()*+,-./0123456789:;<=>?@ABCDEFGHIJKLMNOPQRSTUVWXYZ[\\]^_`abcdefghijklmnopqrstuvwxyz{|~ £°³·×äèéíñóöāōūʻАВЕКМНОРСТаеорсухְֱֲִֵֶַָֹֻּׁׂאבדהוחיךכלםמןנסעפץצקרשת‑–—‘’“”•…≠♀♂♄✨❤。שׂבּכּלּתּוֹ️￼𝘢𝘤𝘭𝘵𝘶𝘺🃏🇨🇩🇪🇮🇱🇳🇷🇸🇺🌍🌏🍻🎉🎩🎯🏆🏻🏽🏿🐑🐒👀👆👌👍👏👨💀💉💕💩💫💯🕋😁😂😄😅😆😇😈😉😊😌😏😔😕😘😭🙂🙃🙄🙈🙉🙌🙏🤓🤔🤖🤠🤡🤢🤣🤦🤧🤪🤭🤮🤯🤷🥁🥪🥴🥵🧐🧢\n",
      "272\n"
     ]
    }
   ],
   "source": [
    "chars = sorted(list(set(text)))\n",
    "vocab_size = len(chars)\n",
    "print(''.join(chars))\n",
    "print(vocab_size)"
   ]
  },
  {
   "cell_type": "code",
   "execution_count": 5,
   "id": "18d383ba",
   "metadata": {
    "scrolled": true
   },
   "outputs": [],
   "source": [
    "# our nanoGPT neural network will be based on characters\n",
    "# chatGPT works on parts of words\n",
    "stoi = { ch:i for i, ch in enumerate(chars) }\n",
    "itos = { i:ch for i, ch in enumerate(chars) }\n",
    "encode = lambda s: [stoi[c] for c in s] #encodes string to chars to list of integers\n",
    "decode = lambda l: ''.join([itos[i] for i in l]) #takes list of integers and outputs string"
   ]
  },
  {
   "cell_type": "code",
   "execution_count": 6,
   "id": "d76206df",
   "metadata": {
    "scrolled": true
   },
   "outputs": [
    {
     "data": {
      "text/plain": [
       "[73, 70, 77, 77, 80, 1, 85, 73, 70, 83, 70]"
      ]
     },
     "execution_count": 6,
     "metadata": {},
     "output_type": "execute_result"
    }
   ],
   "source": [
    "encode(\"hello there\")"
   ]
  },
  {
   "cell_type": "code",
   "execution_count": 7,
   "id": "3794c225",
   "metadata": {
    "scrolled": true
   },
   "outputs": [
    {
     "data": {
      "text/plain": [
       "'hello there'"
      ]
     },
     "execution_count": 7,
     "metadata": {},
     "output_type": "execute_result"
    }
   ],
   "source": [
    "decode([73, 70, 77, 77, 80, 1, 85, 73, 70, 83, 70])"
   ]
  },
  {
   "cell_type": "markdown",
   "id": "21dbac22",
   "metadata": {},
   "source": [
    "The smaller the vocabularyused for encoding, the bigger the eventual encoding. See Open AI's `tiktoken` library which has a 50k vocabulary and would encode \"hello there\" into three tokens.\""
   ]
  },
  {
   "cell_type": "code",
   "execution_count": 8,
   "id": "7e5acc7b",
   "metadata": {
    "scrolled": true
   },
   "outputs": [
    {
     "name": "stdout",
     "output_type": "stream",
     "text": [
      "torch.Size([1171824]) torch.int64\n",
      "tensor([49, 77, 70, 66, 84, 70,  1, 81, 83, 80, 87, 74, 69, 70,  1, 90, 80, 86,\n",
      "        83,  1, 71, 70, 70, 69, 67, 66, 68, 76,  1, 80, 79,  1, 85, 73, 70,  1,\n",
      "        81, 70, 83, 68, 70, 79, 85, 66, 72, 70,  1, 80, 71,  1, 71, 80, 80, 69,\n",
      "         1, 81, 83, 80, 69, 86, 68, 85, 84,  1, 66, 85,  1, 90, 80, 86, 83,  1,\n",
      "        77, 80, 68, 66, 77,  1, 72, 83, 80, 68, 70, 83, 90,  1, 84, 85, 80, 83,\n",
      "        70,  1, 85, 73, 66, 85,  1, 68, 80, 79])\n"
     ]
    }
   ],
   "source": [
    "# we now econde the entire dataset above and store it in a torch.Tensor\n",
    "data = torch.tensor(encode(text), dtype=torch.long)\n",
    "print(data.shape, data.dtype)\n",
    "print(data[:100])"
   ]
  },
  {
   "cell_type": "code",
   "execution_count": 9,
   "id": "689446c0",
   "metadata": {},
   "outputs": [],
   "source": [
    "# Split into train/test\n",
    "cut = int(0.9*len(data))\n",
    "train_data = data[:cut]\n",
    "test_data  = data[cut:]"
   ]
  },
  {
   "cell_type": "markdown",
   "id": "b818d15a",
   "metadata": {},
   "source": [
    "Training on the entire corpus all at once is computationally expensive, so most programs break the corpus into \"chunks.\" Here we're just calling such a chunk `block_size`."
   ]
  },
  {
   "cell_type": "code",
   "execution_count": 10,
   "id": "a4262c28",
   "metadata": {},
   "outputs": [
    {
     "data": {
      "text/plain": [
       "tensor([49, 77, 70, 66, 84, 70,  1, 81, 83])"
      ]
     },
     "execution_count": 10,
     "metadata": {},
     "output_type": "execute_result"
    }
   ],
   "source": [
    "block_size = 8\n",
    "train_data[:block_size+1]"
   ]
  },
  {
   "cell_type": "markdown",
   "id": "9483fa49",
   "metadata": {},
   "source": [
    "What this means for training our neural network is this:"
   ]
  },
  {
   "cell_type": "code",
   "execution_count": 11,
   "id": "0e6c715a",
   "metadata": {},
   "outputs": [
    {
     "name": "stdout",
     "output_type": "stream",
     "text": [
      "When input is tensor([49]), the target is 77.\n",
      "When input is tensor([49, 77]), the target is 70.\n",
      "When input is tensor([49, 77, 70]), the target is 66.\n",
      "When input is tensor([49, 77, 70, 66]), the target is 84.\n",
      "When input is tensor([49, 77, 70, 66, 84]), the target is 70.\n",
      "When input is tensor([49, 77, 70, 66, 84, 70]), the target is 1.\n",
      "When input is tensor([49, 77, 70, 66, 84, 70,  1]), the target is 81.\n",
      "When input is tensor([49, 77, 70, 66, 84, 70,  1, 81]), the target is 83.\n"
     ]
    }
   ],
   "source": [
    "x = train_data[:block_size]\n",
    "y = train_data[1:block_size+1]\n",
    "for t in range(block_size):\n",
    "    context = x[:t+1]\n",
    "    target = y[t]\n",
    "    print(f\"When input is {context}, the target is {target}.\")"
   ]
  },
  {
   "cell_type": "code",
   "execution_count": 12,
   "id": "b187b766",
   "metadata": {},
   "outputs": [],
   "source": [
    "torch.manual_seed(1337)\n",
    "batch_size = 4\n",
    "block_size = 8\n",
    "\n",
    "def get_batch(split):\n",
    "    data = train_data if split == 'train' else val_data\n",
    "    ix = torch.randint(len(data) - block_size, (batch_size,))\n",
    "    x = torch.stack([data[i : i+block_size] for i in ix])\n",
    "    y = torch.stack([data[i+1 : i+block_size+1] for i in ix])\n",
    "    return x, y"
   ]
  },
  {
   "cell_type": "code",
   "execution_count": 13,
   "id": "476b4e49",
   "metadata": {
    "scrolled": true
   },
   "outputs": [
    {
     "name": "stdout",
     "output_type": "stream",
     "text": [
      "inputs:\n",
      "torch.Size([4, 8])\n",
      "tensor([[ 1, 58, 80, 86, 13,  1, 78, 86],\n",
      "        [ 8, 13,  1,  3, 42,  1, 77, 74],\n",
      "        [85, 73, 66, 85,  1, 74, 85,  1],\n",
      "        [88, 70, 77, 77,  1, 66, 84,  1]])\n",
      "targets:\n",
      "torch.Size([4, 8])\n",
      "tensor([[58, 80, 86, 13,  1, 78, 86, 77],\n",
      "        [13,  1,  3, 42,  1, 77, 74, 79],\n",
      "        [73, 66, 85,  1, 74, 85,  1, 78],\n",
      "        [70, 77, 77,  1, 66, 84,  1, 80]])\n"
     ]
    }
   ],
   "source": [
    "xb, yb = get_batch('train')\n",
    "print(\"inputs:\")\n",
    "print(xb.shape)\n",
    "print(xb)\n",
    "print(\"targets:\")\n",
    "print(yb.shape)\n",
    "print(yb)"
   ]
  },
  {
   "cell_type": "markdown",
   "id": "09547536",
   "metadata": {},
   "source": [
    "Batch, Time, and Channel is actually batch, block, by vocabulary."
   ]
  },
  {
   "cell_type": "code",
   "execution_count": 14,
   "id": "51fc182a",
   "metadata": {},
   "outputs": [],
   "source": [
    "class BigramLanguageModel(nn.Module):\n",
    "    \n",
    "    def __init__(self, vocab_size):\n",
    "        super().__init__()\n",
    "        # each token reads off logits for the next token from lookup table\n",
    "        self.token_embedding_table = nn.Embedding(vocab_size, vocab_size)\n",
    "        \n",
    "    def forward(self, idx, targets):\n",
    "        # idx and targets are both (B, T) tensor of integers\n",
    "        logits = self.token_embedding_table(idx) # (Batch, Time, Channel)\n",
    "        \n",
    "        B, T, C = logits.shape\n",
    "        logits = logits.view(B*T, C)\n",
    "        targets = targets.view(B*T)\n",
    "        \n",
    "        loss = F.cross_entropy(logits, targets)\n",
    "        \n",
    "        return logits, loss\n",
    "    \n",
    "    def generate(self, idx, max_new_tokens):\n",
    "        # idx is (B, T) array of indices in the current context\n",
    "        for _ in range(max_new_tokens):\n",
    "            # get the predictions\n",
    "            logits, loss = self(idx)\n",
    "            # focus only on the last time step\n",
    "            logits = logits[:, -1, :] # becomes (B, C)\n",
    "            # apply softmax to get probabilities\n",
    "            probs = F.softmax(logits, dim=-1) # (B, C)\n",
    "            # sample from the distribution\n",
    "            idx_next = torch.multinomial(probs, num_samples=1) # (B, 1)\n",
    "            # append sampled index to the running sequence\n",
    "            idx = torch.cat((idx, idx_next), dim=1) # (B, T+1)\n",
    "        return idx"
   ]
  },
  {
   "cell_type": "code",
   "execution_count": 15,
   "id": "e4930201",
   "metadata": {},
   "outputs": [],
   "source": [
    "model = BigramLanguageModel(vocab_size)\n",
    "m = model.to(device)"
   ]
  },
  {
   "cell_type": "code",
   "execution_count": 16,
   "id": "bd214440",
   "metadata": {},
   "outputs": [],
   "source": [
    "# create a PyTorch optimizer\n",
    "optimizer = torch.optim.AdamW(m.parameters(), lr=1e-3)"
   ]
  },
  {
   "cell_type": "code",
   "execution_count": null,
   "id": "37026b5c",
   "metadata": {},
   "outputs": [],
   "source": []
  }
 ],
 "metadata": {
  "kernelspec": {
   "display_name": "Python 3 (ipykernel)",
   "language": "python",
   "name": "python3"
  },
  "language_info": {
   "codemirror_mode": {
    "name": "ipython",
    "version": 3
   },
   "file_extension": ".py",
   "mimetype": "text/x-python",
   "name": "python",
   "nbconvert_exporter": "python",
   "pygments_lexer": "ipython3",
   "version": "3.11.3"
  }
 },
 "nbformat": 4,
 "nbformat_minor": 5
}
